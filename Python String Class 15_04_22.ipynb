{
 "cells": [
  {
   "cell_type": "code",
   "execution_count": 1,
   "id": "3a2aaeee",
   "metadata": {},
   "outputs": [],
   "source": [
    "s = \"ineuron\""
   ]
  },
  {
   "cell_type": "code",
   "execution_count": 2,
   "id": "76d07c3d",
   "metadata": {},
   "outputs": [
    {
     "data": {
      "text/plain": [
       "str"
      ]
     },
     "execution_count": 2,
     "metadata": {},
     "output_type": "execute_result"
    }
   ],
   "source": [
    "type(s)"
   ]
  },
  {
   "cell_type": "code",
   "execution_count": 3,
   "id": "9066ddba",
   "metadata": {},
   "outputs": [
    {
     "data": {
      "text/plain": [
       "'i'"
      ]
     },
     "execution_count": 3,
     "metadata": {},
     "output_type": "execute_result"
    }
   ],
   "source": [
    "s[0]"
   ]
  },
  {
   "cell_type": "code",
   "execution_count": 4,
   "id": "3df6bb63",
   "metadata": {},
   "outputs": [
    {
     "data": {
      "text/plain": [
       "'o'"
      ]
     },
     "execution_count": 4,
     "metadata": {},
     "output_type": "execute_result"
    }
   ],
   "source": [
    "s[5]"
   ]
  },
  {
   "cell_type": "code",
   "execution_count": 5,
   "id": "c7ae03bc",
   "metadata": {},
   "outputs": [
    {
     "data": {
      "text/plain": [
       "'n'"
      ]
     },
     "execution_count": 5,
     "metadata": {},
     "output_type": "execute_result"
    }
   ],
   "source": [
    "s[-1]"
   ]
  },
  {
   "cell_type": "code",
   "execution_count": 6,
   "id": "b987265e",
   "metadata": {},
   "outputs": [
    {
     "data": {
      "text/plain": [
       "'o'"
      ]
     },
     "execution_count": 6,
     "metadata": {},
     "output_type": "execute_result"
    }
   ],
   "source": [
    "s[-2]"
   ]
  },
  {
   "cell_type": "code",
   "execution_count": 7,
   "id": "0f97144e",
   "metadata": {},
   "outputs": [],
   "source": [
    "s1 = 'Prakash'"
   ]
  },
  {
   "cell_type": "code",
   "execution_count": 8,
   "id": "5b6f2135",
   "metadata": {},
   "outputs": [
    {
     "data": {
      "text/plain": [
       "str"
      ]
     },
     "execution_count": 8,
     "metadata": {},
     "output_type": "execute_result"
    }
   ],
   "source": [
    "type(s)"
   ]
  },
  {
   "cell_type": "code",
   "execution_count": 9,
   "id": "a9ec08de",
   "metadata": {},
   "outputs": [
    {
     "data": {
      "text/plain": [
       "'n'"
      ]
     },
     "execution_count": 9,
     "metadata": {},
     "output_type": "execute_result"
    }
   ],
   "source": [
    "s[-1]"
   ]
  },
  {
   "cell_type": "code",
   "execution_count": 10,
   "id": "eb8f2a87",
   "metadata": {},
   "outputs": [
    {
     "data": {
      "text/plain": [
       "'h'"
      ]
     },
     "execution_count": 10,
     "metadata": {},
     "output_type": "execute_result"
    }
   ],
   "source": [
    "s1[-1]"
   ]
  },
  {
   "cell_type": "code",
   "execution_count": 11,
   "id": "1e5761cc",
   "metadata": {},
   "outputs": [
    {
     "data": {
      "text/plain": [
       "'s'"
      ]
     },
     "execution_count": 11,
     "metadata": {},
     "output_type": "execute_result"
    }
   ],
   "source": [
    "s1[-2]"
   ]
  },
  {
   "cell_type": "code",
   "execution_count": 13,
   "id": "4672b911",
   "metadata": {},
   "outputs": [
    {
     "data": {
      "text/plain": [
       "\"This is my second python class's'\""
      ]
     },
     "execution_count": 13,
     "metadata": {},
     "output_type": "execute_result"
    }
   ],
   "source": [
    "\"This is my second python class's'\""
   ]
  },
  {
   "cell_type": "code",
   "execution_count": 14,
   "id": "b1815694",
   "metadata": {},
   "outputs": [],
   "source": [
    "s2 =  \"This is my second python class's\""
   ]
  },
  {
   "cell_type": "code",
   "execution_count": 15,
   "id": "c30f34f8",
   "metadata": {},
   "outputs": [
    {
     "data": {
      "text/plain": [
       "\"This is my second python class's\""
      ]
     },
     "execution_count": 15,
     "metadata": {},
     "output_type": "execute_result"
    }
   ],
   "source": [
    "s2"
   ]
  },
  {
   "cell_type": "code",
   "execution_count": 16,
   "id": "91f4d7e7",
   "metadata": {},
   "outputs": [
    {
     "data": {
      "text/plain": [
       "'m'"
      ]
     },
     "execution_count": 16,
     "metadata": {},
     "output_type": "execute_result"
    }
   ],
   "source": [
    "s2[8]"
   ]
  },
  {
   "cell_type": "code",
   "execution_count": 17,
   "id": "c53ab517",
   "metadata": {},
   "outputs": [
    {
     "data": {
      "text/plain": [
       "'i'"
      ]
     },
     "execution_count": 17,
     "metadata": {},
     "output_type": "execute_result"
    }
   ],
   "source": [
    "s2[2]"
   ]
  },
  {
   "cell_type": "code",
   "execution_count": 18,
   "id": "4d43e938",
   "metadata": {},
   "outputs": [
    {
     "data": {
      "text/plain": [
       "'h'"
      ]
     },
     "execution_count": 18,
     "metadata": {},
     "output_type": "execute_result"
    }
   ],
   "source": [
    "s2[1]"
   ]
  },
  {
   "cell_type": "code",
   "execution_count": 19,
   "id": "5ccce5cd",
   "metadata": {},
   "outputs": [
    {
     "data": {
      "text/plain": [
       "'his is'"
      ]
     },
     "execution_count": 19,
     "metadata": {},
     "output_type": "execute_result"
    }
   ],
   "source": [
    "s2[1:7]"
   ]
  },
  {
   "cell_type": "code",
   "execution_count": 20,
   "id": "5da553e7",
   "metadata": {},
   "outputs": [
    {
     "data": {
      "text/plain": [
       "\"This is my second python class's\""
      ]
     },
     "execution_count": 20,
     "metadata": {},
     "output_type": "execute_result"
    }
   ],
   "source": [
    "s2"
   ]
  },
  {
   "cell_type": "code",
   "execution_count": 21,
   "id": "08b0d4c0",
   "metadata": {},
   "outputs": [
    {
     "data": {
      "text/plain": [
       "'hi'"
      ]
     },
     "execution_count": 21,
     "metadata": {},
     "output_type": "execute_result"
    }
   ],
   "source": [
    "s2[1:3]"
   ]
  },
  {
   "cell_type": "code",
   "execution_count": 22,
   "id": "d723e473",
   "metadata": {},
   "outputs": [
    {
     "data": {
      "text/plain": [
       "'his'"
      ]
     },
     "execution_count": 22,
     "metadata": {},
     "output_type": "execute_result"
    }
   ],
   "source": [
    "s2[1:4]"
   ]
  },
  {
   "cell_type": "code",
   "execution_count": 23,
   "id": "ce2222a3",
   "metadata": {},
   "outputs": [
    {
     "data": {
      "text/plain": [
       "\"This is my second python class's\""
      ]
     },
     "execution_count": 23,
     "metadata": {},
     "output_type": "execute_result"
    }
   ],
   "source": [
    "s2"
   ]
  },
  {
   "cell_type": "code",
   "execution_count": 24,
   "id": "9153841c",
   "metadata": {},
   "outputs": [
    {
     "data": {
      "text/plain": [
       "'i sm eodpto ls'"
      ]
     },
     "execution_count": 24,
     "metadata": {},
     "output_type": "execute_result"
    }
   ],
   "source": [
    "s2[2:30:2]"
   ]
  },
  {
   "cell_type": "code",
   "execution_count": 25,
   "id": "9db81144",
   "metadata": {},
   "outputs": [],
   "source": [
    "s3 = 'sudhanshu'"
   ]
  },
  {
   "cell_type": "code",
   "execution_count": 26,
   "id": "b0d15802",
   "metadata": {},
   "outputs": [
    {
     "data": {
      "text/plain": [
       "'sdasu'"
      ]
     },
     "execution_count": 26,
     "metadata": {},
     "output_type": "execute_result"
    }
   ],
   "source": [
    "s3[0:9:2]"
   ]
  },
  {
   "cell_type": "code",
   "execution_count": 28,
   "id": "d5c1e960",
   "metadata": {},
   "outputs": [
    {
     "data": {
      "text/plain": [
       "'shs'"
      ]
     },
     "execution_count": 28,
     "metadata": {},
     "output_type": "execute_result"
    }
   ],
   "source": [
    "s3[0:9:3]"
   ]
  },
  {
   "cell_type": "code",
   "execution_count": 29,
   "id": "991b1ebd",
   "metadata": {},
   "outputs": [
    {
     "data": {
      "text/plain": [
       "'ineuron'"
      ]
     },
     "execution_count": 29,
     "metadata": {},
     "output_type": "execute_result"
    }
   ],
   "source": [
    "s"
   ]
  },
  {
   "cell_type": "code",
   "execution_count": 30,
   "id": "147d9665",
   "metadata": {},
   "outputs": [
    {
     "data": {
      "text/plain": [
       "'sudhanshu'"
      ]
     },
     "execution_count": 30,
     "metadata": {},
     "output_type": "execute_result"
    }
   ],
   "source": [
    "s3"
   ]
  },
  {
   "cell_type": "code",
   "execution_count": 31,
   "id": "46d16edf",
   "metadata": {},
   "outputs": [
    {
     "data": {
      "text/plain": [
       "''"
      ]
     },
     "execution_count": 31,
     "metadata": {},
     "output_type": "execute_result"
    }
   ],
   "source": [
    "s3[0:8:-1]"
   ]
  },
  {
   "cell_type": "code",
   "execution_count": 32,
   "id": "7f07f4c0",
   "metadata": {},
   "outputs": [
    {
     "data": {
      "text/plain": [
       "'uhsnahdu'"
      ]
     },
     "execution_count": 32,
     "metadata": {},
     "output_type": "execute_result"
    }
   ],
   "source": [
    "s3[8:0:-1]"
   ]
  },
  {
   "cell_type": "code",
   "execution_count": 33,
   "id": "75e0123a",
   "metadata": {},
   "outputs": [
    {
     "data": {
      "text/plain": [
       "'usad'"
      ]
     },
     "execution_count": 33,
     "metadata": {},
     "output_type": "execute_result"
    }
   ],
   "source": [
    "s3[8:0:-2]"
   ]
  },
  {
   "cell_type": "code",
   "execution_count": 34,
   "id": "8dfbae28",
   "metadata": {},
   "outputs": [
    {
     "data": {
      "text/plain": [
       "'s'"
      ]
     },
     "execution_count": 34,
     "metadata": {},
     "output_type": "execute_result"
    }
   ],
   "source": [
    "s3[-3]"
   ]
  },
  {
   "cell_type": "code",
   "execution_count": 35,
   "id": "1024bdfd",
   "metadata": {},
   "outputs": [
    {
     "data": {
      "text/plain": [
       "'sudhanshu'"
      ]
     },
     "execution_count": 35,
     "metadata": {},
     "output_type": "execute_result"
    }
   ],
   "source": [
    "s3"
   ]
  },
  {
   "cell_type": "code",
   "execution_count": 36,
   "id": "acf0f8bf",
   "metadata": {},
   "outputs": [
    {
     "ename": "SyntaxError",
     "evalue": "closing parenthesis '}' does not match opening parenthesis '[' (Temp/ipykernel_9384/140059457.py, line 1)",
     "output_type": "error",
     "traceback": [
      "\u001b[1;36m  File \u001b[1;32m\"C:\\Users\\WIN10~1\\AppData\\Local\\Temp/ipykernel_9384/140059457.py\"\u001b[1;36m, line \u001b[1;32m1\u001b[0m\n\u001b[1;33m    s3[:-3}]\u001b[0m\n\u001b[1;37m          ^\u001b[0m\n\u001b[1;31mSyntaxError\u001b[0m\u001b[1;31m:\u001b[0m closing parenthesis '}' does not match opening parenthesis '['\n"
     ]
    }
   ],
   "source": [
    "s3[:-3}]"
   ]
  },
  {
   "cell_type": "code",
   "execution_count": 37,
   "id": "5ff38912",
   "metadata": {},
   "outputs": [
    {
     "data": {
      "text/plain": [
       "'sudhan'"
      ]
     },
     "execution_count": 37,
     "metadata": {},
     "output_type": "execute_result"
    }
   ],
   "source": [
    "s3[:-3]"
   ]
  },
  {
   "cell_type": "code",
   "execution_count": 38,
   "id": "33b27649",
   "metadata": {},
   "outputs": [
    {
     "data": {
      "text/plain": [
       "'sudhanshu'"
      ]
     },
     "execution_count": 38,
     "metadata": {},
     "output_type": "execute_result"
    }
   ],
   "source": [
    "s3"
   ]
  },
  {
   "cell_type": "code",
   "execution_count": 39,
   "id": "7372f267",
   "metadata": {},
   "outputs": [
    {
     "data": {
      "text/plain": [
       "'sudhans'"
      ]
     },
     "execution_count": 39,
     "metadata": {},
     "output_type": "execute_result"
    }
   ],
   "source": [
    "s3[:-2]"
   ]
  },
  {
   "cell_type": "code",
   "execution_count": 40,
   "id": "bb40d377",
   "metadata": {},
   "outputs": [
    {
     "data": {
      "text/plain": [
       "'hu'"
      ]
     },
     "execution_count": 40,
     "metadata": {},
     "output_type": "execute_result"
    }
   ],
   "source": [
    "s3[-2:]"
   ]
  },
  {
   "cell_type": "code",
   "execution_count": 41,
   "id": "c4ab7103",
   "metadata": {},
   "outputs": [
    {
     "data": {
      "text/plain": [
       "'sudhanshu'"
      ]
     },
     "execution_count": 41,
     "metadata": {},
     "output_type": "execute_result"
    }
   ],
   "source": [
    "s3[::1]"
   ]
  },
  {
   "cell_type": "code",
   "execution_count": 42,
   "id": "ac3624c4",
   "metadata": {},
   "outputs": [
    {
     "data": {
      "text/plain": [
       "'sdasu'"
      ]
     },
     "execution_count": 42,
     "metadata": {},
     "output_type": "execute_result"
    }
   ],
   "source": [
    "s3[::2]"
   ]
  },
  {
   "cell_type": "code",
   "execution_count": 43,
   "id": "cd2df2e4",
   "metadata": {},
   "outputs": [
    {
     "data": {
      "text/plain": [
       "'sudhanshu'"
      ]
     },
     "execution_count": 43,
     "metadata": {},
     "output_type": "execute_result"
    }
   ],
   "source": [
    "s3"
   ]
  },
  {
   "cell_type": "code",
   "execution_count": 44,
   "id": "18fa4659",
   "metadata": {},
   "outputs": [
    {
     "data": {
      "text/plain": [
       "'shs'"
      ]
     },
     "execution_count": 44,
     "metadata": {},
     "output_type": "execute_result"
    }
   ],
   "source": [
    "s3[::3]"
   ]
  },
  {
   "cell_type": "code",
   "execution_count": 45,
   "id": "bd607fdf",
   "metadata": {},
   "outputs": [
    {
     "data": {
      "text/plain": [
       "'uhsnahdus'"
      ]
     },
     "execution_count": 45,
     "metadata": {},
     "output_type": "execute_result"
    }
   ],
   "source": [
    "s3[::-1]"
   ]
  },
  {
   "cell_type": "code",
   "execution_count": 46,
   "id": "397674f8",
   "metadata": {},
   "outputs": [
    {
     "data": {
      "text/plain": [
       "'usads'"
      ]
     },
     "execution_count": 46,
     "metadata": {},
     "output_type": "execute_result"
    }
   ],
   "source": [
    "s3[::-2]"
   ]
  },
  {
   "cell_type": "code",
   "execution_count": 47,
   "id": "6d1c6b04",
   "metadata": {},
   "outputs": [
    {
     "data": {
      "text/plain": [
       "'sudhanshu'"
      ]
     },
     "execution_count": 47,
     "metadata": {},
     "output_type": "execute_result"
    }
   ],
   "source": [
    "s3"
   ]
  },
  {
   "cell_type": "code",
   "execution_count": 48,
   "id": "4df99d16",
   "metadata": {},
   "outputs": [
    {
     "data": {
      "text/plain": [
       "'sdasu'"
      ]
     },
     "execution_count": 48,
     "metadata": {},
     "output_type": "execute_result"
    }
   ],
   "source": [
    "s3[::2]"
   ]
  },
  {
   "cell_type": "code",
   "execution_count": 49,
   "id": "f3c85769",
   "metadata": {},
   "outputs": [],
   "source": [
    "s4 = 'ineuron'"
   ]
  },
  {
   "cell_type": "code",
   "execution_count": 50,
   "id": "87267b4f",
   "metadata": {},
   "outputs": [
    {
     "data": {
      "text/plain": [
       "'norueni'"
      ]
     },
     "execution_count": 50,
     "metadata": {},
     "output_type": "execute_result"
    }
   ],
   "source": [
    "s4[::-1]"
   ]
  },
  {
   "cell_type": "code",
   "execution_count": 51,
   "id": "72c62e33",
   "metadata": {},
   "outputs": [
    {
     "data": {
      "text/plain": [
       "''"
      ]
     },
     "execution_count": 51,
     "metadata": {},
     "output_type": "execute_result"
    }
   ],
   "source": [
    "s4[-2:-7:1]"
   ]
  },
  {
   "cell_type": "code",
   "execution_count": 52,
   "id": "43308caa",
   "metadata": {},
   "outputs": [
    {
     "data": {
      "text/plain": [
       "'oruen'"
      ]
     },
     "execution_count": 52,
     "metadata": {},
     "output_type": "execute_result"
    }
   ],
   "source": [
    "s4[-2:-7:-1]"
   ]
  },
  {
   "cell_type": "code",
   "execution_count": 53,
   "id": "e2b06f04",
   "metadata": {},
   "outputs": [
    {
     "data": {
      "text/plain": [
       "'ineur'"
      ]
     },
     "execution_count": 53,
     "metadata": {},
     "output_type": "execute_result"
    }
   ],
   "source": [
    "s4[-7:-2:1]"
   ]
  },
  {
   "cell_type": "code",
   "execution_count": 54,
   "id": "29d299a1",
   "metadata": {},
   "outputs": [
    {
     "data": {
      "text/plain": [
       "'ineuron'"
      ]
     },
     "execution_count": 54,
     "metadata": {},
     "output_type": "execute_result"
    }
   ],
   "source": [
    "s4"
   ]
  },
  {
   "cell_type": "code",
   "execution_count": 55,
   "id": "b79cc649",
   "metadata": {},
   "outputs": [
    {
     "data": {
      "text/plain": [
       "'ineur'"
      ]
     },
     "execution_count": 55,
     "metadata": {},
     "output_type": "execute_result"
    }
   ],
   "source": [
    "s4[-8:-2:1]"
   ]
  },
  {
   "cell_type": "code",
   "execution_count": 56,
   "id": "50c36908",
   "metadata": {},
   "outputs": [
    {
     "data": {
      "text/plain": [
       "''"
      ]
     },
     "execution_count": 56,
     "metadata": {},
     "output_type": "execute_result"
    }
   ],
   "source": [
    "s4[-7:-2:-1]"
   ]
  },
  {
   "cell_type": "code",
   "execution_count": 57,
   "id": "a47c24ae",
   "metadata": {},
   "outputs": [
    {
     "data": {
      "text/plain": [
       "\"This is my second python class's\""
      ]
     },
     "execution_count": 57,
     "metadata": {},
     "output_type": "execute_result"
    }
   ],
   "source": [
    "s2"
   ]
  },
  {
   "cell_type": "code",
   "execution_count": 58,
   "id": "f70ec4f0",
   "metadata": {},
   "outputs": [
    {
     "data": {
      "text/plain": [
       "'ineuron'"
      ]
     },
     "execution_count": 58,
     "metadata": {},
     "output_type": "execute_result"
    }
   ],
   "source": [
    "s4"
   ]
  },
  {
   "cell_type": "code",
   "execution_count": 59,
   "id": "0032de2b",
   "metadata": {},
   "outputs": [
    {
     "data": {
      "text/plain": [
       "'sudhanshu'"
      ]
     },
     "execution_count": 59,
     "metadata": {},
     "output_type": "execute_result"
    }
   ],
   "source": [
    "s3"
   ]
  },
  {
   "cell_type": "code",
   "execution_count": 60,
   "id": "af9fba11",
   "metadata": {},
   "outputs": [
    {
     "data": {
      "text/plain": [
       "''"
      ]
     },
     "execution_count": 60,
     "metadata": {},
     "output_type": "execute_result"
    }
   ],
   "source": [
    "s4[5:0]"
   ]
  },
  {
   "cell_type": "code",
   "execution_count": 61,
   "id": "a2760709",
   "metadata": {},
   "outputs": [
    {
     "data": {
      "text/plain": [
       "'ineuron'"
      ]
     },
     "execution_count": 61,
     "metadata": {},
     "output_type": "execute_result"
    }
   ],
   "source": [
    "s4"
   ]
  },
  {
   "cell_type": "code",
   "execution_count": 62,
   "id": "bf58f151",
   "metadata": {},
   "outputs": [
    {
     "data": {
      "text/plain": [
       "''"
      ]
     },
     "execution_count": 62,
     "metadata": {},
     "output_type": "execute_result"
    }
   ],
   "source": [
    "s4[-1:-1]"
   ]
  },
  {
   "cell_type": "code",
   "execution_count": 63,
   "id": "c655efbb",
   "metadata": {},
   "outputs": [
    {
     "ename": "ValueError",
     "evalue": "slice step cannot be zero",
     "output_type": "error",
     "traceback": [
      "\u001b[1;31m---------------------------------------------------------------------------\u001b[0m",
      "\u001b[1;31mValueError\u001b[0m                                Traceback (most recent call last)",
      "\u001b[1;32mC:\\Users\\WIN10~1\\AppData\\Local\\Temp/ipykernel_9384/3616141127.py\u001b[0m in \u001b[0;36m<module>\u001b[1;34m\u001b[0m\n\u001b[1;32m----> 1\u001b[1;33m \u001b[0ms4\u001b[0m\u001b[1;33m[\u001b[0m\u001b[1;33m-\u001b[0m\u001b[1;36m1\u001b[0m\u001b[1;33m:\u001b[0m\u001b[1;33m-\u001b[0m\u001b[1;36m1\u001b[0m\u001b[1;33m:\u001b[0m\u001b[1;36m0\u001b[0m\u001b[1;33m]\u001b[0m\u001b[1;33m\u001b[0m\u001b[1;33m\u001b[0m\u001b[0m\n\u001b[0m",
      "\u001b[1;31mValueError\u001b[0m: slice step cannot be zero"
     ]
    }
   ],
   "source": [
    "s4[-1:-1:0]"
   ]
  },
  {
   "cell_type": "code",
   "execution_count": 64,
   "id": "92bd8ea1",
   "metadata": {},
   "outputs": [
    {
     "data": {
      "text/plain": [
       "''"
      ]
     },
     "execution_count": 64,
     "metadata": {},
     "output_type": "execute_result"
    }
   ],
   "source": [
    "s4[-1:-1:2]"
   ]
  },
  {
   "cell_type": "code",
   "execution_count": 65,
   "id": "39ccae07",
   "metadata": {},
   "outputs": [
    {
     "data": {
      "text/plain": [
       "'ineuron'"
      ]
     },
     "execution_count": 65,
     "metadata": {},
     "output_type": "execute_result"
    }
   ],
   "source": [
    "s4"
   ]
  },
  {
   "cell_type": "code",
   "execution_count": 66,
   "id": "1dc72f7d",
   "metadata": {},
   "outputs": [
    {
     "ename": "TypeError",
     "evalue": "can only concatenate str (not \"int\") to str",
     "output_type": "error",
     "traceback": [
      "\u001b[1;31m---------------------------------------------------------------------------\u001b[0m",
      "\u001b[1;31mTypeError\u001b[0m                                 Traceback (most recent call last)",
      "\u001b[1;32mC:\\Users\\WIN10~1\\AppData\\Local\\Temp/ipykernel_9384/2878237045.py\u001b[0m in \u001b[0;36m<module>\u001b[1;34m\u001b[0m\n\u001b[1;32m----> 1\u001b[1;33m \u001b[0ms4\u001b[0m \u001b[1;33m+\u001b[0m \u001b[1;36m1\u001b[0m\u001b[1;33m\u001b[0m\u001b[1;33m\u001b[0m\u001b[0m\n\u001b[0m",
      "\u001b[1;31mTypeError\u001b[0m: can only concatenate str (not \"int\") to str"
     ]
    }
   ],
   "source": [
    "s4 + 1"
   ]
  },
  {
   "cell_type": "code",
   "execution_count": 68,
   "id": "83aec660",
   "metadata": {},
   "outputs": [
    {
     "data": {
      "text/plain": [
       "'ineuronsudhanshu'"
      ]
     },
     "execution_count": 68,
     "metadata": {},
     "output_type": "execute_result"
    }
   ],
   "source": [
    "s4 + ''+ s3"
   ]
  },
  {
   "cell_type": "code",
   "execution_count": 69,
   "id": "9bd933e5",
   "metadata": {},
   "outputs": [
    {
     "data": {
      "text/plain": [
       "'ineuron1'"
      ]
     },
     "execution_count": 69,
     "metadata": {},
     "output_type": "execute_result"
    }
   ],
   "source": [
    "s4 + '1'"
   ]
  },
  {
   "cell_type": "code",
   "execution_count": 70,
   "id": "c5e234c7",
   "metadata": {},
   "outputs": [
    {
     "data": {
      "text/plain": [
       "'ineuron1'"
      ]
     },
     "execution_count": 70,
     "metadata": {},
     "output_type": "execute_result"
    }
   ],
   "source": [
    "s4 + \"1\""
   ]
  },
  {
   "cell_type": "code",
   "execution_count": 71,
   "id": "2b0cdb3e",
   "metadata": {},
   "outputs": [
    {
     "data": {
      "text/plain": [
       "'ineuron1'"
      ]
     },
     "execution_count": 71,
     "metadata": {},
     "output_type": "execute_result"
    }
   ],
   "source": [
    "s4 + str(1)"
   ]
  },
  {
   "cell_type": "code",
   "execution_count": 72,
   "id": "b506d6db",
   "metadata": {},
   "outputs": [
    {
     "data": {
      "text/plain": [
       "'ineuron'"
      ]
     },
     "execution_count": 72,
     "metadata": {},
     "output_type": "execute_result"
    }
   ],
   "source": [
    "s4"
   ]
  },
  {
   "cell_type": "code",
   "execution_count": 73,
   "id": "d94432ba",
   "metadata": {},
   "outputs": [
    {
     "data": {
      "text/plain": [
       "7"
      ]
     },
     "execution_count": 73,
     "metadata": {},
     "output_type": "execute_result"
    }
   ],
   "source": [
    "len(s4)"
   ]
  },
  {
   "cell_type": "code",
   "execution_count": 75,
   "id": "fcae912e",
   "metadata": {},
   "outputs": [
    {
     "data": {
      "text/plain": [
       "'pk233445'"
      ]
     },
     "execution_count": 75,
     "metadata": {},
     "output_type": "execute_result"
    }
   ],
   "source": [
    "\"pk\" + '233445'"
   ]
  },
  {
   "cell_type": "code",
   "execution_count": 76,
   "id": "702b4d7d",
   "metadata": {},
   "outputs": [
    {
     "data": {
      "text/plain": [
       "'ineuron'"
      ]
     },
     "execution_count": 76,
     "metadata": {},
     "output_type": "execute_result"
    }
   ],
   "source": [
    "s4"
   ]
  },
  {
   "cell_type": "code",
   "execution_count": 77,
   "id": "9bb7120b",
   "metadata": {},
   "outputs": [
    {
     "data": {
      "text/plain": [
       "'sudhanshu'"
      ]
     },
     "execution_count": 77,
     "metadata": {},
     "output_type": "execute_result"
    }
   ],
   "source": [
    "s3"
   ]
  },
  {
   "cell_type": "code",
   "execution_count": 78,
   "id": "0a444557",
   "metadata": {},
   "outputs": [
    {
     "data": {
      "text/plain": [
       "'Prakash'"
      ]
     },
     "execution_count": 78,
     "metadata": {},
     "output_type": "execute_result"
    }
   ],
   "source": [
    "s1"
   ]
  },
  {
   "cell_type": "code",
   "execution_count": 79,
   "id": "5e01a867",
   "metadata": {},
   "outputs": [
    {
     "data": {
      "text/plain": [
       "\"This is my second python class's\""
      ]
     },
     "execution_count": 79,
     "metadata": {},
     "output_type": "execute_result"
    }
   ],
   "source": [
    "s2"
   ]
  },
  {
   "cell_type": "code",
   "execution_count": 80,
   "id": "87ee2126",
   "metadata": {},
   "outputs": [
    {
     "data": {
      "text/plain": [
       "32"
      ]
     },
     "execution_count": 80,
     "metadata": {},
     "output_type": "execute_result"
    }
   ],
   "source": [
    "len(s2)"
   ]
  },
  {
   "cell_type": "code",
   "execution_count": 81,
   "id": "f8f69bc0",
   "metadata": {},
   "outputs": [
    {
     "data": {
      "text/plain": [
       "\"This is my second python class'sThis is my second python class's\""
      ]
     },
     "execution_count": 81,
     "metadata": {},
     "output_type": "execute_result"
    }
   ],
   "source": [
    "s2 * 2\n"
   ]
  },
  {
   "cell_type": "code",
   "execution_count": 82,
   "id": "434da879",
   "metadata": {},
   "outputs": [
    {
     "data": {
      "text/plain": [
       "'ineuronineuron'"
      ]
     },
     "execution_count": 82,
     "metadata": {},
     "output_type": "execute_result"
    }
   ],
   "source": [
    "s4 *2"
   ]
  },
  {
   "cell_type": "code",
   "execution_count": 83,
   "id": "d1eafac8",
   "metadata": {},
   "outputs": [
    {
     "data": {
      "text/plain": [
       "'INEURON'"
      ]
     },
     "execution_count": 83,
     "metadata": {},
     "output_type": "execute_result"
    }
   ],
   "source": [
    "s4.upper()"
   ]
  },
  {
   "cell_type": "code",
   "execution_count": 92,
   "id": "7ed12675",
   "metadata": {},
   "outputs": [
    {
     "data": {
      "text/plain": [
       "1"
      ]
     },
     "execution_count": 92,
     "metadata": {},
     "output_type": "execute_result"
    }
   ],
   "source": [
    "s4.count('o')"
   ]
  },
  {
   "cell_type": "code",
   "execution_count": 96,
   "id": "cb926388",
   "metadata": {},
   "outputs": [
    {
     "data": {
      "text/plain": [
       "'ineuron'"
      ]
     },
     "execution_count": 96,
     "metadata": {},
     "output_type": "execute_result"
    }
   ],
   "source": [
    "s4.lower()"
   ]
  },
  {
   "cell_type": "code",
   "execution_count": 100,
   "id": "e3fbb3ea",
   "metadata": {},
   "outputs": [
    {
     "data": {
      "text/plain": [
       "['i', 'euro', '']"
      ]
     },
     "execution_count": 100,
     "metadata": {},
     "output_type": "execute_result"
    }
   ],
   "source": [
    "s4.split('n')"
   ]
  },
  {
   "cell_type": "code",
   "execution_count": 98,
   "id": "5d2e22e9",
   "metadata": {},
   "outputs": [
    {
     "data": {
      "text/plain": [
       "'ineuron'"
      ]
     },
     "execution_count": 98,
     "metadata": {},
     "output_type": "execute_result"
    }
   ],
   "source": [
    "s4"
   ]
  },
  {
   "cell_type": "code",
   "execution_count": 101,
   "id": "c6e3c373",
   "metadata": {},
   "outputs": [
    {
     "data": {
      "text/plain": [
       "['ineur', 'n']"
      ]
     },
     "execution_count": 101,
     "metadata": {},
     "output_type": "execute_result"
    }
   ],
   "source": [
    "s4.split('o')"
   ]
  },
  {
   "cell_type": "code",
   "execution_count": 102,
   "id": "7677f05b",
   "metadata": {},
   "outputs": [
    {
     "data": {
      "text/plain": [
       "['', 'neuron']"
      ]
     },
     "execution_count": 102,
     "metadata": {},
     "output_type": "execute_result"
    }
   ],
   "source": [
    "s4.split('i')"
   ]
  },
  {
   "cell_type": "code",
   "execution_count": 103,
   "id": "7dfb14c4",
   "metadata": {},
   "outputs": [
    {
     "data": {
      "text/plain": [
       "'Ineuron'"
      ]
     },
     "execution_count": 103,
     "metadata": {},
     "output_type": "execute_result"
    }
   ],
   "source": [
    "s4.capitalize()"
   ]
  },
  {
   "cell_type": "code",
   "execution_count": 104,
   "id": "deea9dbe",
   "metadata": {},
   "outputs": [
    {
     "data": {
      "text/plain": [
       "\"This is my second python class's\""
      ]
     },
     "execution_count": 104,
     "metadata": {},
     "output_type": "execute_result"
    }
   ],
   "source": [
    "s2"
   ]
  },
  {
   "cell_type": "code",
   "execution_count": 105,
   "id": "a84dd2d2",
   "metadata": {},
   "outputs": [
    {
     "data": {
      "text/plain": [
       "\"This is my second python class's\""
      ]
     },
     "execution_count": 105,
     "metadata": {},
     "output_type": "execute_result"
    }
   ],
   "source": [
    "s2.capitalize()"
   ]
  },
  {
   "cell_type": "code",
   "execution_count": 106,
   "id": "8987c568",
   "metadata": {},
   "outputs": [
    {
     "data": {
      "text/plain": [
       "'sudhanshu'"
      ]
     },
     "execution_count": 106,
     "metadata": {},
     "output_type": "execute_result"
    }
   ],
   "source": [
    "s3"
   ]
  },
  {
   "cell_type": "code",
   "execution_count": 107,
   "id": "9e4aba83",
   "metadata": {},
   "outputs": [
    {
     "data": {
      "text/plain": [
       "'Sudhanshu'"
      ]
     },
     "execution_count": 107,
     "metadata": {},
     "output_type": "execute_result"
    }
   ],
   "source": [
    "s3.capitalize()"
   ]
  },
  {
   "cell_type": "code",
   "execution_count": 108,
   "id": "ec092857",
   "metadata": {},
   "outputs": [],
   "source": [
    "s3 = s3.upper()"
   ]
  },
  {
   "cell_type": "code",
   "execution_count": 109,
   "id": "e56cdaba",
   "metadata": {},
   "outputs": [
    {
     "data": {
      "text/plain": [
       "'SUDHANSHU'"
      ]
     },
     "execution_count": 109,
     "metadata": {},
     "output_type": "execute_result"
    }
   ],
   "source": [
    "s3"
   ]
  },
  {
   "cell_type": "code",
   "execution_count": 110,
   "id": "b387994a",
   "metadata": {},
   "outputs": [
    {
     "data": {
      "text/plain": [
       "'SUDHANSHU'"
      ]
     },
     "execution_count": 110,
     "metadata": {},
     "output_type": "execute_result"
    }
   ],
   "source": [
    "s3"
   ]
  },
  {
   "cell_type": "code",
   "execution_count": 111,
   "id": "7937ec49",
   "metadata": {},
   "outputs": [
    {
     "data": {
      "text/plain": [
       "\"This is my second python class's\""
      ]
     },
     "execution_count": 111,
     "metadata": {},
     "output_type": "execute_result"
    }
   ],
   "source": [
    "s2"
   ]
  },
  {
   "cell_type": "code",
   "execution_count": 112,
   "id": "bfd160df",
   "metadata": {},
   "outputs": [],
   "source": [
    "s2 =  s2.upper()"
   ]
  },
  {
   "cell_type": "code",
   "execution_count": 113,
   "id": "5d1cecf1",
   "metadata": {},
   "outputs": [
    {
     "data": {
      "text/plain": [
       "\"THIS IS MY SECOND PYTHON CLASS'S\""
      ]
     },
     "execution_count": 113,
     "metadata": {},
     "output_type": "execute_result"
    }
   ],
   "source": [
    "s2"
   ]
  },
  {
   "cell_type": "code",
   "execution_count": 114,
   "id": "cc1b0764",
   "metadata": {},
   "outputs": [
    {
     "data": {
      "text/plain": [
       "'SUDHANSHU'"
      ]
     },
     "execution_count": 114,
     "metadata": {},
     "output_type": "execute_result"
    }
   ],
   "source": [
    "s3"
   ]
  },
  {
   "cell_type": "code",
   "execution_count": 115,
   "id": "fbc79575",
   "metadata": {},
   "outputs": [
    {
     "data": {
      "text/plain": [
       "'ineuron'"
      ]
     },
     "execution_count": 115,
     "metadata": {},
     "output_type": "execute_result"
    }
   ],
   "source": [
    "s4\n"
   ]
  },
  {
   "cell_type": "code",
   "execution_count": 116,
   "id": "84dbb51e",
   "metadata": {},
   "outputs": [
    {
     "data": {
      "text/plain": [
       "'Ineuron'"
      ]
     },
     "execution_count": 116,
     "metadata": {},
     "output_type": "execute_result"
    }
   ],
   "source": [
    "s.title()"
   ]
  },
  {
   "cell_type": "code",
   "execution_count": 117,
   "id": "0ba829f0",
   "metadata": {},
   "outputs": [
    {
     "ename": "SyntaxError",
     "evalue": "invalid syntax (Temp/ipykernel_9384/3519046616.py, line 1)",
     "output_type": "error",
     "traceback": [
      "\u001b[1;36m  File \u001b[1;32m\"C:\\Users\\WIN10~1\\AppData\\Local\\Temp/ipykernel_9384/3519046616.py\"\u001b[1;36m, line \u001b[1;32m1\u001b[0m\n\u001b[1;33m    s4 = ineuron classes\u001b[0m\n\u001b[1;37m                 ^\u001b[0m\n\u001b[1;31mSyntaxError\u001b[0m\u001b[1;31m:\u001b[0m invalid syntax\n"
     ]
    }
   ],
   "source": [
    " s4 = ineuron classes\n",
    "    "
   ]
  },
  {
   "cell_type": "code",
   "execution_count": 118,
   "id": "7ec1419b",
   "metadata": {},
   "outputs": [
    {
     "data": {
      "text/plain": [
       "'ineuron'"
      ]
     },
     "execution_count": 118,
     "metadata": {},
     "output_type": "execute_result"
    }
   ],
   "source": [
    "s4"
   ]
  },
  {
   "cell_type": "code",
   "execution_count": 126,
   "id": "41835a59",
   "metadata": {},
   "outputs": [],
   "source": [
    "s4 = \"ineuron Classes\""
   ]
  },
  {
   "cell_type": "code",
   "execution_count": 127,
   "id": "56dfefe4",
   "metadata": {},
   "outputs": [
    {
     "data": {
      "text/plain": [
       "'ineuron Classes'"
      ]
     },
     "execution_count": 127,
     "metadata": {},
     "output_type": "execute_result"
    }
   ],
   "source": [
    "s4"
   ]
  },
  {
   "cell_type": "code",
   "execution_count": 123,
   "id": "74ffd144",
   "metadata": {},
   "outputs": [
    {
     "data": {
      "text/plain": [
       "'INEURON CLASSES'"
      ]
     },
     "execution_count": 123,
     "metadata": {},
     "output_type": "execute_result"
    }
   ],
   "source": [
    "s4.swapcase()"
   ]
  },
  {
   "cell_type": "code",
   "execution_count": 124,
   "id": "4084aa17",
   "metadata": {},
   "outputs": [
    {
     "data": {
      "text/plain": [
       "'ineuron classes'"
      ]
     },
     "execution_count": 124,
     "metadata": {},
     "output_type": "execute_result"
    }
   ],
   "source": [
    "s4"
   ]
  },
  {
   "cell_type": "code",
   "execution_count": 128,
   "id": "9b270912",
   "metadata": {},
   "outputs": [
    {
     "data": {
      "text/plain": [
       "<reversed at 0x1b33e20c3d0>"
      ]
     },
     "execution_count": 128,
     "metadata": {},
     "output_type": "execute_result"
    }
   ],
   "source": [
    "reversed(s4)"
   ]
  },
  {
   "cell_type": "code",
   "execution_count": 129,
   "id": "b68360b3",
   "metadata": {},
   "outputs": [
    {
     "data": {
      "text/plain": [
       "'ineuron Classes'"
      ]
     },
     "execution_count": 129,
     "metadata": {},
     "output_type": "execute_result"
    }
   ],
   "source": [
    "s4"
   ]
  },
  {
   "cell_type": "code",
   "execution_count": 130,
   "id": "38ca19fc",
   "metadata": {},
   "outputs": [],
   "source": [
    "s5 = ' Prakash KhilAR'"
   ]
  },
  {
   "cell_type": "code",
   "execution_count": 131,
   "id": "6b7a0f0f",
   "metadata": {},
   "outputs": [
    {
     "data": {
      "text/plain": [
       "' Prakash KhilAR'"
      ]
     },
     "execution_count": 131,
     "metadata": {},
     "output_type": "execute_result"
    }
   ],
   "source": [
    "s5\n"
   ]
  },
  {
   "cell_type": "code",
   "execution_count": 132,
   "id": "2d5a0553",
   "metadata": {},
   "outputs": [
    {
     "data": {
      "text/plain": [
       "'RAlihK hsakarP '"
      ]
     },
     "execution_count": 132,
     "metadata": {},
     "output_type": "execute_result"
    }
   ],
   "source": [
    "''.join(reversed(s5))"
   ]
  },
  {
   "cell_type": "code",
   "execution_count": 133,
   "id": "168f055e",
   "metadata": {},
   "outputs": [
    {
     "data": {
      "text/plain": [
       "' pRAKASH kHILar'"
      ]
     },
     "execution_count": 133,
     "metadata": {},
     "output_type": "execute_result"
    }
   ],
   "source": [
    "s5.swapcase()"
   ]
  },
  {
   "cell_type": "code",
   "execution_count": 134,
   "id": "6eb58cef",
   "metadata": {},
   "outputs": [
    {
     "data": {
      "text/plain": [
       "' Prakash Khilar'"
      ]
     },
     "execution_count": 134,
     "metadata": {},
     "output_type": "execute_result"
    }
   ],
   "source": [
    "s5.title()"
   ]
  },
  {
   "cell_type": "code",
   "execution_count": 135,
   "id": "1e891910",
   "metadata": {},
   "outputs": [
    {
     "data": {
      "text/plain": [
       "' Prakash KhilAR'"
      ]
     },
     "execution_count": 135,
     "metadata": {},
     "output_type": "execute_result"
    }
   ],
   "source": [
    "s5"
   ]
  },
  {
   "cell_type": "code",
   "execution_count": 136,
   "id": "0e910f6e",
   "metadata": {},
   "outputs": [],
   "source": [
    "s = \"  su  dh   \""
   ]
  },
  {
   "cell_type": "code",
   "execution_count": 137,
   "id": "7ac14b4b",
   "metadata": {},
   "outputs": [
    {
     "data": {
      "text/plain": [
       "'su  dh'"
      ]
     },
     "execution_count": 137,
     "metadata": {},
     "output_type": "execute_result"
    }
   ],
   "source": [
    "s.strip()"
   ]
  },
  {
   "cell_type": "code",
   "execution_count": 138,
   "id": "d6769fe1",
   "metadata": {},
   "outputs": [
    {
     "data": {
      "text/plain": [
       "'su  dh   '"
      ]
     },
     "execution_count": 138,
     "metadata": {},
     "output_type": "execute_result"
    }
   ],
   "source": [
    "s.lstrip()"
   ]
  },
  {
   "cell_type": "code",
   "execution_count": 139,
   "id": "8c7e4918",
   "metadata": {},
   "outputs": [
    {
     "data": {
      "text/plain": [
       "'  su  dh   '"
      ]
     },
     "execution_count": 139,
     "metadata": {},
     "output_type": "execute_result"
    }
   ],
   "source": [
    "s"
   ]
  },
  {
   "cell_type": "code",
   "execution_count": 140,
   "id": "a65a9aa7",
   "metadata": {},
   "outputs": [
    {
     "data": {
      "text/plain": [
       "'  su  dh'"
      ]
     },
     "execution_count": 140,
     "metadata": {},
     "output_type": "execute_result"
    }
   ],
   "source": [
    "s.rstrip()"
   ]
  },
  {
   "cell_type": "code",
   "execution_count": 141,
   "id": "a193e28d",
   "metadata": {},
   "outputs": [
    {
     "data": {
      "text/plain": [
       "'  su  dh   '"
      ]
     },
     "execution_count": 141,
     "metadata": {},
     "output_type": "execute_result"
    }
   ],
   "source": [
    "s"
   ]
  },
  {
   "cell_type": "code",
   "execution_count": 142,
   "id": "8aeaa8cc",
   "metadata": {},
   "outputs": [
    {
     "data": {
      "text/plain": [
       "'su  dh'"
      ]
     },
     "execution_count": 142,
     "metadata": {},
     "output_type": "execute_result"
    }
   ],
   "source": [
    "s.strip()"
   ]
  },
  {
   "cell_type": "code",
   "execution_count": 143,
   "id": "11411d80",
   "metadata": {},
   "outputs": [
    {
     "data": {
      "text/plain": [
       "'  su  dh   '"
      ]
     },
     "execution_count": 143,
     "metadata": {},
     "output_type": "execute_result"
    }
   ],
   "source": [
    "s"
   ]
  },
  {
   "cell_type": "code",
   "execution_count": 144,
   "id": "6e7fcf1f",
   "metadata": {},
   "outputs": [
    {
     "data": {
      "text/plain": [
       "'su  dh   '"
      ]
     },
     "execution_count": 144,
     "metadata": {},
     "output_type": "execute_result"
    }
   ],
   "source": [
    "s.lstrip()"
   ]
  },
  {
   "cell_type": "code",
   "execution_count": 145,
   "id": "c9f13a3d",
   "metadata": {},
   "outputs": [
    {
     "data": {
      "text/plain": [
       "'  su  dh   '"
      ]
     },
     "execution_count": 145,
     "metadata": {},
     "output_type": "execute_result"
    }
   ],
   "source": [
    "s"
   ]
  },
  {
   "cell_type": "code",
   "execution_count": 146,
   "id": "20077d68",
   "metadata": {},
   "outputs": [
    {
     "data": {
      "text/plain": [
       "'P   r   a   k   a   s   h'"
      ]
     },
     "execution_count": 146,
     "metadata": {},
     "output_type": "execute_result"
    }
   ],
   "source": [
    "\"   \"  .join(\"Prakash\")"
   ]
  },
  {
   "cell_type": "code",
   "execution_count": 147,
   "id": "b796729d",
   "metadata": {},
   "outputs": [],
   "source": [
    "s = \"SSSSS\""
   ]
  },
  {
   "cell_type": "code",
   "execution_count": 152,
   "id": "61052e7c",
   "metadata": {},
   "outputs": [
    {
     "data": {
      "text/plain": [
       "'777SSSSS7777'"
      ]
     },
     "execution_count": 152,
     "metadata": {},
     "output_type": "execute_result"
    }
   ],
   "source": [
    "s.center(12,'7')\n"
   ]
  },
  {
   "cell_type": "code",
   "execution_count": 153,
   "id": "153781f0",
   "metadata": {},
   "outputs": [],
   "source": [
    "s = \"Prakash\""
   ]
  },
  {
   "cell_type": "code",
   "execution_count": 154,
   "id": "dff7bcdd",
   "metadata": {},
   "outputs": [
    {
     "data": {
      "text/plain": [
       "False"
      ]
     },
     "execution_count": 154,
     "metadata": {},
     "output_type": "execute_result"
    }
   ],
   "source": [
    "s.isupper()"
   ]
  },
  {
   "cell_type": "code",
   "execution_count": 159,
   "id": "b300a7a7",
   "metadata": {},
   "outputs": [],
   "source": [
    "s1 = 'yyy'"
   ]
  },
  {
   "cell_type": "code",
   "execution_count": 156,
   "id": "e46abd72",
   "metadata": {},
   "outputs": [
    {
     "data": {
      "text/plain": [
       "True"
      ]
     },
     "execution_count": 156,
     "metadata": {},
     "output_type": "execute_result"
    }
   ],
   "source": [
    "s1.isupper()"
   ]
  },
  {
   "cell_type": "code",
   "execution_count": 157,
   "id": "c5b4b7d8",
   "metadata": {},
   "outputs": [
    {
     "data": {
      "text/plain": [
       "False"
      ]
     },
     "execution_count": 157,
     "metadata": {},
     "output_type": "execute_result"
    }
   ],
   "source": [
    "s.islower()"
   ]
  },
  {
   "cell_type": "code",
   "execution_count": 158,
   "id": "7691db8d",
   "metadata": {},
   "outputs": [
    {
     "data": {
      "text/plain": [
       "'SSS'"
      ]
     },
     "execution_count": 158,
     "metadata": {},
     "output_type": "execute_result"
    }
   ],
   "source": [
    "s1"
   ]
  },
  {
   "cell_type": "code",
   "execution_count": 160,
   "id": "ca5ddf7e",
   "metadata": {},
   "outputs": [
    {
     "data": {
      "text/plain": [
       "True"
      ]
     },
     "execution_count": 160,
     "metadata": {},
     "output_type": "execute_result"
    }
   ],
   "source": [
    "s1.islower()"
   ]
  },
  {
   "cell_type": "code",
   "execution_count": 161,
   "id": "d2aa7935",
   "metadata": {},
   "outputs": [
    {
     "data": {
      "text/plain": [
       "'yyy'"
      ]
     },
     "execution_count": 161,
     "metadata": {},
     "output_type": "execute_result"
    }
   ],
   "source": [
    "s1"
   ]
  },
  {
   "cell_type": "code",
   "execution_count": 162,
   "id": "97b0fa59",
   "metadata": {},
   "outputs": [
    {
     "data": {
      "text/plain": [
       "'Prakash'"
      ]
     },
     "execution_count": 162,
     "metadata": {},
     "output_type": "execute_result"
    }
   ],
   "source": [
    "s"
   ]
  },
  {
   "cell_type": "code",
   "execution_count": 163,
   "id": "00d33663",
   "metadata": {},
   "outputs": [
    {
     "data": {
      "text/plain": [
       "False"
      ]
     },
     "execution_count": 163,
     "metadata": {},
     "output_type": "execute_result"
    }
   ],
   "source": [
    "s.isspace()"
   ]
  },
  {
   "cell_type": "code",
   "execution_count": 166,
   "id": "94b0db48",
   "metadata": {},
   "outputs": [],
   "source": [
    "s2 = \" \""
   ]
  },
  {
   "cell_type": "code",
   "execution_count": 167,
   "id": "57e4ec6a",
   "metadata": {},
   "outputs": [
    {
     "data": {
      "text/plain": [
       "True"
      ]
     },
     "execution_count": 167,
     "metadata": {},
     "output_type": "execute_result"
    }
   ],
   "source": [
    "s2.isspace()"
   ]
  },
  {
   "cell_type": "code",
   "execution_count": 168,
   "id": "0fae77c6",
   "metadata": {},
   "outputs": [
    {
     "data": {
      "text/plain": [
       "False"
      ]
     },
     "execution_count": 168,
     "metadata": {},
     "output_type": "execute_result"
    }
   ],
   "source": [
    "s.isdigit()\n"
   ]
  },
  {
   "cell_type": "code",
   "execution_count": 169,
   "id": "44f4a99b",
   "metadata": {},
   "outputs": [],
   "source": [
    "s5 = '679'"
   ]
  },
  {
   "cell_type": "code",
   "execution_count": 170,
   "id": "d4911ceb",
   "metadata": {},
   "outputs": [
    {
     "data": {
      "text/plain": [
       "True"
      ]
     },
     "execution_count": 170,
     "metadata": {},
     "output_type": "execute_result"
    }
   ],
   "source": [
    "s5.isdigit()"
   ]
  },
  {
   "cell_type": "code",
   "execution_count": 171,
   "id": "4dae9194",
   "metadata": {},
   "outputs": [],
   "source": [
    "s7 = 'sder455'"
   ]
  },
  {
   "cell_type": "code",
   "execution_count": 172,
   "id": "db00ffd9",
   "metadata": {},
   "outputs": [
    {
     "data": {
      "text/plain": [
       "False"
      ]
     },
     "execution_count": 172,
     "metadata": {},
     "output_type": "execute_result"
    }
   ],
   "source": [
    "s7.isdigit()\n"
   ]
  },
  {
   "cell_type": "code",
   "execution_count": 173,
   "id": "4a2e17a4",
   "metadata": {},
   "outputs": [
    {
     "data": {
      "text/plain": [
       "'Prakash'"
      ]
     },
     "execution_count": 173,
     "metadata": {},
     "output_type": "execute_result"
    }
   ],
   "source": [
    "s"
   ]
  },
  {
   "cell_type": "code",
   "execution_count": 174,
   "id": "26cadc7d",
   "metadata": {},
   "outputs": [
    {
     "data": {
      "text/plain": [
       "True"
      ]
     },
     "execution_count": 174,
     "metadata": {},
     "output_type": "execute_result"
    }
   ],
   "source": [
    "s.isalnum()\n"
   ]
  },
  {
   "cell_type": "code",
   "execution_count": 175,
   "id": "515cfdfb",
   "metadata": {},
   "outputs": [
    {
     "data": {
      "text/plain": [
       "True"
      ]
     },
     "execution_count": 175,
     "metadata": {},
     "output_type": "execute_result"
    }
   ],
   "source": [
    "s.isalpha()"
   ]
  },
  {
   "cell_type": "code",
   "execution_count": 178,
   "id": "015e3ff1",
   "metadata": {},
   "outputs": [],
   "source": [
    "s8 = 'dcsdbkdvbakdvs2222'"
   ]
  },
  {
   "cell_type": "code",
   "execution_count": 179,
   "id": "ca4f450d",
   "metadata": {},
   "outputs": [
    {
     "data": {
      "text/plain": [
       "False"
      ]
     },
     "execution_count": 179,
     "metadata": {},
     "output_type": "execute_result"
    }
   ],
   "source": [
    "s8.isalpha()"
   ]
  },
  {
   "cell_type": "code",
   "execution_count": 180,
   "id": "7dfccf67",
   "metadata": {},
   "outputs": [
    {
     "data": {
      "text/plain": [
       "'Prakash'"
      ]
     },
     "execution_count": 180,
     "metadata": {},
     "output_type": "execute_result"
    }
   ],
   "source": [
    "s"
   ]
  },
  {
   "cell_type": "code",
   "execution_count": 181,
   "id": "101af99c",
   "metadata": {},
   "outputs": [
    {
     "data": {
      "text/plain": [
       "False"
      ]
     },
     "execution_count": 181,
     "metadata": {},
     "output_type": "execute_result"
    }
   ],
   "source": [
    "s.startswith('i')"
   ]
  },
  {
   "cell_type": "code",
   "execution_count": 183,
   "id": "0645b958",
   "metadata": {},
   "outputs": [
    {
     "data": {
      "text/plain": [
       "False"
      ]
     },
     "execution_count": 183,
     "metadata": {},
     "output_type": "execute_result"
    }
   ],
   "source": [
    "s.startswith('p')"
   ]
  },
  {
   "cell_type": "code",
   "execution_count": 184,
   "id": "fed24f0c",
   "metadata": {},
   "outputs": [
    {
     "data": {
      "text/plain": [
       "False"
      ]
     },
     "execution_count": 184,
     "metadata": {},
     "output_type": "execute_result"
    }
   ],
   "source": [
    "s.endswith('l')"
   ]
  },
  {
   "cell_type": "code",
   "execution_count": 185,
   "id": "4c458abe",
   "metadata": {},
   "outputs": [
    {
     "data": {
      "text/plain": [
       "True"
      ]
     },
     "execution_count": 185,
     "metadata": {},
     "output_type": "execute_result"
    }
   ],
   "source": [
    "s.endswith('h')"
   ]
  },
  {
   "cell_type": "code",
   "execution_count": 186,
   "id": "54a61e08",
   "metadata": {},
   "outputs": [
    {
     "ename": "TypeError",
     "evalue": "startswith() takes at least 1 argument (0 given)",
     "output_type": "error",
     "traceback": [
      "\u001b[1;31m---------------------------------------------------------------------------\u001b[0m",
      "\u001b[1;31mTypeError\u001b[0m                                 Traceback (most recent call last)",
      "\u001b[1;32mC:\\Users\\WIN10~1\\AppData\\Local\\Temp/ipykernel_9384/2888591382.py\u001b[0m in \u001b[0;36m<module>\u001b[1;34m\u001b[0m\n\u001b[1;32m----> 1\u001b[1;33m \u001b[0ms\u001b[0m\u001b[1;33m.\u001b[0m\u001b[0mstartswith\u001b[0m\u001b[1;33m(\u001b[0m\u001b[1;33m)\u001b[0m\u001b[1;33m\u001b[0m\u001b[1;33m\u001b[0m\u001b[0m\n\u001b[0m",
      "\u001b[1;31mTypeError\u001b[0m: startswith() takes at least 1 argument (0 given)"
     ]
    }
   ],
   "source": [
    "s.startswith()"
   ]
  },
  {
   "cell_type": "code",
   "execution_count": 187,
   "id": "e4d40b02",
   "metadata": {},
   "outputs": [
    {
     "data": {
      "text/plain": [
       "True"
      ]
     },
     "execution_count": 187,
     "metadata": {},
     "output_type": "execute_result"
    }
   ],
   "source": [
    "s.startswith(\"\")"
   ]
  },
  {
   "cell_type": "code",
   "execution_count": 188,
   "id": "8d60dc85",
   "metadata": {},
   "outputs": [
    {
     "data": {
      "text/plain": [
       "'Prakash'"
      ]
     },
     "execution_count": 188,
     "metadata": {},
     "output_type": "execute_result"
    }
   ],
   "source": [
    "s"
   ]
  },
  {
   "cell_type": "code",
   "execution_count": 189,
   "id": "d1f450f0",
   "metadata": {},
   "outputs": [
    {
     "ename": "SyntaxError",
     "evalue": "EOL while scanning string literal (Temp/ipykernel_9384/422229487.py, line 1)",
     "output_type": "error",
     "traceback": [
      "\u001b[1;36m  File \u001b[1;32m\"C:\\Users\\WIN10~1\\AppData\\Local\\Temp/ipykernel_9384/422229487.py\"\u001b[1;36m, line \u001b[1;32m1\u001b[0m\n\u001b[1;33m    s= 'bunu\u001b[0m\n\u001b[1;37m            ^\u001b[0m\n\u001b[1;31mSyntaxError\u001b[0m\u001b[1;31m:\u001b[0m EOL while scanning string literal\n"
     ]
    }
   ],
   "source": [
    "s= 'bunu\n",
    "'"
   ]
  },
  {
   "cell_type": "code",
   "execution_count": 190,
   "id": "2a005998",
   "metadata": {},
   "outputs": [],
   "source": [
    "s = 'bunu'"
   ]
  },
  {
   "cell_type": "code",
   "execution_count": 191,
   "id": "78aabe82",
   "metadata": {},
   "outputs": [
    {
     "data": {
      "text/plain": [
       "'bunu'"
      ]
     },
     "execution_count": 191,
     "metadata": {},
     "output_type": "execute_result"
    }
   ],
   "source": [
    "s"
   ]
  },
  {
   "cell_type": "code",
   "execution_count": 192,
   "id": "db07bbda",
   "metadata": {},
   "outputs": [
    {
     "data": {
      "text/plain": [
       "True"
      ]
     },
     "execution_count": 192,
     "metadata": {},
     "output_type": "execute_result"
    }
   ],
   "source": [
    "s.startswith(\"\")"
   ]
  },
  {
   "cell_type": "code",
   "execution_count": 193,
   "id": "3141bf92",
   "metadata": {},
   "outputs": [],
   "source": [
    "s = \"2333\""
   ]
  },
  {
   "cell_type": "code",
   "execution_count": 194,
   "id": "0174a111",
   "metadata": {},
   "outputs": [
    {
     "data": {
      "text/plain": [
       "True"
      ]
     },
     "execution_count": 194,
     "metadata": {},
     "output_type": "execute_result"
    }
   ],
   "source": [
    "s.startswith(\"\")"
   ]
  },
  {
   "cell_type": "code",
   "execution_count": 195,
   "id": "afb9b772",
   "metadata": {},
   "outputs": [],
   "source": [
    " s = '5666'"
   ]
  },
  {
   "cell_type": "code",
   "execution_count": 196,
   "id": "d92fd157",
   "metadata": {},
   "outputs": [
    {
     "data": {
      "text/plain": [
       "True"
      ]
     },
     "execution_count": 196,
     "metadata": {},
     "output_type": "execute_result"
    }
   ],
   "source": [
    "s.isdigit()"
   ]
  },
  {
   "cell_type": "code",
   "execution_count": 197,
   "id": "34774bfd",
   "metadata": {},
   "outputs": [],
   "source": [
    "s1 = 'wwwee455'"
   ]
  },
  {
   "cell_type": "code",
   "execution_count": 198,
   "id": "48495274",
   "metadata": {},
   "outputs": [
    {
     "data": {
      "text/plain": [
       "False"
      ]
     },
     "execution_count": 198,
     "metadata": {},
     "output_type": "execute_result"
    }
   ],
   "source": [
    "s1.isnumeric()"
   ]
  },
  {
   "cell_type": "code",
   "execution_count": 199,
   "id": "c0fc604e",
   "metadata": {},
   "outputs": [],
   "source": [
    "s2 = \" 9990 000\""
   ]
  },
  {
   "cell_type": "code",
   "execution_count": 200,
   "id": "77891adf",
   "metadata": {},
   "outputs": [
    {
     "data": {
      "text/plain": [
       "False"
      ]
     },
     "execution_count": 200,
     "metadata": {},
     "output_type": "execute_result"
    }
   ],
   "source": [
    "s2.isnumeric()"
   ]
  },
  {
   "cell_type": "code",
   "execution_count": 201,
   "id": "e6c1b668",
   "metadata": {},
   "outputs": [],
   "source": [
    "s = 67\n"
   ]
  },
  {
   "cell_type": "code",
   "execution_count": 202,
   "id": "3a88174a",
   "metadata": {},
   "outputs": [
    {
     "ename": "AttributeError",
     "evalue": "'int' object has no attribute 'isdigit'",
     "output_type": "error",
     "traceback": [
      "\u001b[1;31m---------------------------------------------------------------------------\u001b[0m",
      "\u001b[1;31mAttributeError\u001b[0m                            Traceback (most recent call last)",
      "\u001b[1;32mC:\\Users\\WIN10~1\\AppData\\Local\\Temp/ipykernel_9384/665735919.py\u001b[0m in \u001b[0;36m<module>\u001b[1;34m\u001b[0m\n\u001b[1;32m----> 1\u001b[1;33m \u001b[0ms\u001b[0m\u001b[1;33m.\u001b[0m\u001b[0misdigit\u001b[0m\u001b[1;33m(\u001b[0m\u001b[1;33m)\u001b[0m\u001b[1;33m\u001b[0m\u001b[1;33m\u001b[0m\u001b[0m\n\u001b[0m",
      "\u001b[1;31mAttributeError\u001b[0m: 'int' object has no attribute 'isdigit'"
     ]
    }
   ],
   "source": [
    "s.isdigit()"
   ]
  },
  {
   "cell_type": "code",
   "execution_count": 203,
   "id": "dbdd002a",
   "metadata": {},
   "outputs": [
    {
     "data": {
      "text/plain": [
       "67"
      ]
     },
     "execution_count": 203,
     "metadata": {},
     "output_type": "execute_result"
    }
   ],
   "source": [
    "s"
   ]
  },
  {
   "cell_type": "code",
   "execution_count": 204,
   "id": "4f7decb7",
   "metadata": {},
   "outputs": [],
   "source": [
    "s = 'Prakash'"
   ]
  },
  {
   "cell_type": "code",
   "execution_count": 205,
   "id": "bb4ea874",
   "metadata": {},
   "outputs": [
    {
     "data": {
      "text/plain": [
       "'Prakash'"
      ]
     },
     "execution_count": 205,
     "metadata": {},
     "output_type": "execute_result"
    }
   ],
   "source": [
    "s"
   ]
  },
  {
   "cell_type": "code",
   "execution_count": 206,
   "id": "dcf10070",
   "metadata": {},
   "outputs": [
    {
     "data": {
      "text/plain": [
       "False"
      ]
     },
     "execution_count": 206,
     "metadata": {},
     "output_type": "execute_result"
    }
   ],
   "source": [
    "s.isdigit()"
   ]
  },
  {
   "cell_type": "code",
   "execution_count": 207,
   "id": "536c2896",
   "metadata": {},
   "outputs": [
    {
     "data": {
      "text/plain": [
       "<reversed at 0x1b33d8d0ca0>"
      ]
     },
     "execution_count": 207,
     "metadata": {},
     "output_type": "execute_result"
    }
   ],
   "source": [
    "reversed(s)"
   ]
  },
  {
   "cell_type": "code",
   "execution_count": 208,
   "id": "0780d262",
   "metadata": {},
   "outputs": [
    {
     "data": {
      "text/plain": [
       "'Pdrdadkdadsdh'"
      ]
     },
     "execution_count": 208,
     "metadata": {},
     "output_type": "execute_result"
    }
   ],
   "source": [
    "'d'.join(\"Prakash\")"
   ]
  },
  {
   "cell_type": "code",
   "execution_count": 209,
   "id": "31b26df9",
   "metadata": {},
   "outputs": [
    {
     "data": {
      "text/plain": [
       "'ABC'"
      ]
     },
     "execution_count": 209,
     "metadata": {},
     "output_type": "execute_result"
    }
   ],
   "source": [
    "''.join(\"ABC\")"
   ]
  },
  {
   "cell_type": "code",
   "execution_count": 210,
   "id": "0a38ffc2",
   "metadata": {},
   "outputs": [
    {
     "data": {
      "text/plain": [
       "'RTS'"
      ]
     },
     "execution_count": 210,
     "metadata": {},
     "output_type": "execute_result"
    }
   ],
   "source": [
    "'' .join(reversed(\"STR\"))"
   ]
  },
  {
   "cell_type": "code",
   "execution_count": 211,
   "id": "356228a3",
   "metadata": {},
   "outputs": [
    {
     "data": {
      "text/plain": [
       "'hsakarP'"
      ]
     },
     "execution_count": 211,
     "metadata": {},
     "output_type": "execute_result"
    }
   ],
   "source": [
    "''.join(reversed(s))"
   ]
  },
  {
   "cell_type": "code",
   "execution_count": 212,
   "id": "247784e0",
   "metadata": {},
   "outputs": [],
   "source": [
    "s = 'aaa\\nnn\\mm'"
   ]
  },
  {
   "cell_type": "code",
   "execution_count": 213,
   "id": "38fbf568",
   "metadata": {},
   "outputs": [
    {
     "data": {
      "text/plain": [
       "'aaa\\nnn\\\\mm'"
      ]
     },
     "execution_count": 213,
     "metadata": {},
     "output_type": "execute_result"
    }
   ],
   "source": [
    "s.expandtabs()"
   ]
  },
  {
   "cell_type": "code",
   "execution_count": 214,
   "id": "bc37ade8",
   "metadata": {},
   "outputs": [
    {
     "ename": "SyntaxError",
     "evalue": "invalid syntax (Temp/ipykernel_9384/3360333962.py, line 2)",
     "output_type": "error",
     "traceback": [
      "\u001b[1;36m  File \u001b[1;32m\"C:\\Users\\WIN10~1\\AppData\\Local\\Temp/ipykernel_9384/3360333962.py\"\u001b[1;36m, line \u001b[1;32m2\u001b[0m\n\u001b[1;33m    1. Try to extarct data from  index one to index 300 with  a jumb 3\u001b[0m\n\u001b[1;37m       ^\u001b[0m\n\u001b[1;31mSyntaxError\u001b[0m\u001b[1;31m:\u001b[0m invalid syntax\n"
     ]
    }
   ],
   "source": [
    "s = \"This is My python programmimg class Na I am learing String and Its function\"\n",
    "1. Try to extarct data from  index one to index 300 with  a jumb 3\n",
    "2. Try to recervce s atring without using reverse function\n",
    "3, Try to split a string after conversion  of netire string in uppercase\n",
    "4. Try to convert the whole string into lower case\n",
    "5. Try to captolize the whole string\n",
    "6. Write the differnece between isalnum() and isalpha()\n",
    "7. Try to give an example of expand tab\n",
    "8. Give an exmaple of strip, lstrion &rstrip\n",
    "9. Replace a string chartacer by another character by taking ur own exmple\n",
    "\"sudhanshu\"\n",
    "10.Try to give the defination of string center funstion with an example\n",
    "11. Wrtie ur own defination 0f compiler and interpreter without copy paste internet in your language\n",
    "12. Python is a interpreted of complied lnaguage give a clear and ur own underabding\n",
    "13. Try to write usecase od python on your own understdning\n"
   ]
  },
  {
   "cell_type": "code",
   "execution_count": null,
   "id": "365d6415",
   "metadata": {},
   "outputs": [],
   "source": [
    "You have to send a jupyter notebook to shivan@ineuron.ai before next class before 21st"
   ]
  }
 ],
 "metadata": {
  "kernelspec": {
   "display_name": "Python 3 (ipykernel)",
   "language": "python",
   "name": "python3"
  },
  "language_info": {
   "codemirror_mode": {
    "name": "ipython",
    "version": 3
   },
   "file_extension": ".py",
   "mimetype": "text/x-python",
   "name": "python",
   "nbconvert_exporter": "python",
   "pygments_lexer": "ipython3",
   "version": "3.9.7"
  }
 },
 "nbformat": 4,
 "nbformat_minor": 5
}
